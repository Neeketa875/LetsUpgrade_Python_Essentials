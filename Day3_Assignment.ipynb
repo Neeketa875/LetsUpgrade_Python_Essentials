{
 "cells": [
  {
   "cell_type": "markdown",
   "metadata": {},
   "source": [
    "Find sum of n numbers with the help of while loop"
   ]
  },
  {
   "cell_type": "code",
   "execution_count": 10,
   "metadata": {},
   "outputs": [
    {
     "name": "stdout",
     "output_type": "stream",
     "text": [
      "Enter number: 2\n",
      "Sum of n numbers is 3\n"
     ]
    }
   ],
   "source": [
    "n = int(input(\"Enter number: \"));\n",
    "result=0;\n",
    "i=1;\n",
    "while(i<=n):\n",
    "    result=result+i;\n",
    "    i+=1;\n",
    "print(\"Sum of n numbers is\",result);"
   ]
  },
  {
   "cell_type": "markdown",
   "metadata": {},
   "source": [
    "Take an integer and find whether the number is prime or not"
   ]
  },
  {
   "cell_type": "code",
   "execution_count": 15,
   "metadata": {},
   "outputs": [
    {
     "name": "stdout",
     "output_type": "stream",
     "text": [
      "Enter number: 34\n",
      "It is not a prime number\n"
     ]
    }
   ],
   "source": [
    "n = int(input(\"Enter number: \"));\n",
    "if n>1:\n",
    "    for i in range(2,n):\n",
    "        if(n%i)==0:\n",
    "            print(\"It is not a prime number\");\n",
    "            break\n",
    "        else:\n",
    "            print(\"It is prime number\");\n",
    "else:\n",
    "    print(\"It is a prime number\");"
   ]
  },
  {
   "cell_type": "code",
   "execution_count": null,
   "metadata": {},
   "outputs": [],
   "source": []
  }
 ],
 "metadata": {
  "kernelspec": {
   "display_name": "Python 3",
   "language": "python",
   "name": "python3"
  },
  "language_info": {
   "codemirror_mode": {
    "name": "ipython",
    "version": 3
   },
   "file_extension": ".py",
   "mimetype": "text/x-python",
   "name": "python",
   "nbconvert_exporter": "python",
   "pygments_lexer": "ipython3",
   "version": "3.7.6"
  }
 },
 "nbformat": 4,
 "nbformat_minor": 4
}
